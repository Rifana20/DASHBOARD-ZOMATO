{
  "nbformat": 4,
  "nbformat_minor": 0,
  "metadata": {
    "colab": {
      "provenance": [],
      "mount_file_id": "1oHYS7RfT9qGGWO4iZFFSvYXYxgyxZecc",
      "authorship_tag": "ABX9TyOUm2vNY7+Wci0ZA885e1Dv",
      "include_colab_link": true
    },
    "kernelspec": {
      "name": "python3",
      "display_name": "Python 3"
    },
    "language_info": {
      "name": "python"
    }
  },
  "cells": [
    {
      "cell_type": "markdown",
      "metadata": {
        "id": "view-in-github",
        "colab_type": "text"
      },
      "source": [
        "<a href=\"https://colab.research.google.com/github/Rifana20/DASHBOARD-ZOMATO/blob/main/webscraping.ipynb\" target=\"_parent\"><img src=\"https://colab.research.google.com/assets/colab-badge.svg\" alt=\"Open In Colab\"/></a>"
      ]
    },
    {
      "cell_type": "code",
      "source": [
        "import requests"
      ],
      "metadata": {
        "id": "8dq0Oo8RhiPY"
      },
      "execution_count": 28,
      "outputs": []
    },
    {
      "cell_type": "code",
      "source": [
        "from bs4 import BeautifulSoup"
      ],
      "metadata": {
        "id": "1c58i5jrqCGy"
      },
      "execution_count": 33,
      "outputs": []
    },
    {
      "cell_type": "code",
      "source": [
        "import pandas as pd"
      ],
      "metadata": {
        "id": "CKYAU9WFqhQ9"
      },
      "execution_count": 48,
      "outputs": []
    },
    {
      "cell_type": "code",
      "source": [],
      "metadata": {
        "id": "VF2SiVnfqucK"
      },
      "execution_count": 36,
      "outputs": []
    },
    {
      "cell_type": "code",
      "source": [
        "books=[]\n",
        "for i in range(1,51):\n",
        " url=f\"https://books.toscrape.com/catalogue/page-{i}.html\"\n",
        " response=requests.get(url)\n",
        " response = response.content\n",
        " soup=BeautifulSoup(response,'html.parser')\n",
        " ol=soup.find('ol')\n",
        " articles=ol.find_all('article',class_='product_pod')\n",
        "\n",
        " for article in articles:\n",
        "  image=article.find('img')\n",
        "  title=image.attrs['alt']\n",
        "  star=article.find('p')\n",
        "  star=star['class'][1]\n",
        "  price=article.find('p',class_='price_color').text\n",
        "  price=float(price[1:])\n",
        "  books.append([title,price,star])\n",
        "\n"
      ],
      "metadata": {
        "id": "4U246_o1rApZ"
      },
      "execution_count": 49,
      "outputs": []
    },
    {
      "cell_type": "code",
      "source": [
        "df = pd.DataFrame(books,columns=['title','price','star rating'])"
      ],
      "metadata": {
        "id": "38YrhRGXrltP"
      },
      "execution_count": 51,
      "outputs": []
    },
    {
      "cell_type": "code",
      "source": [
        "df.to_csv('books.csv')"
      ],
      "metadata": {
        "id": "TVrBdw-tvz8h"
      },
      "execution_count": 52,
      "outputs": []
    }
  ]
}